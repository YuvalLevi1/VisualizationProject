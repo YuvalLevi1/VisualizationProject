{
  "nbformat": 4,
  "nbformat_minor": 0,
  "metadata": {
    "colab": {
      "provenance": []
    },
    "kernelspec": {
      "name": "python3",
      "display_name": "Python 3"
    },
    "language_info": {
      "name": "python"
    }
  },
  "cells": [
    {
      "cell_type": "markdown",
      "source": [
        "# **Preproccessing for visualization project**\n",
        "\n",
        "*   Yuval Levi - 325120384\n",
        "*   Maxim Katz - 322406604"
      ],
      "metadata": {
        "id": "Q2kTSmbUDaxj"
      }
    },
    {
      "cell_type": "markdown",
      "source": [
        "Imports"
      ],
      "metadata": {
        "id": "uQFzwZ3WCEIz"
      }
    },
    {
      "cell_type": "code",
      "source": [
        "import pandas as pd"
      ],
      "metadata": {
        "id": "ngrXldMxK2ao"
      },
      "execution_count": 45,
      "outputs": []
    },
    {
      "cell_type": "markdown",
      "source": [
        "Data loading"
      ],
      "metadata": {
        "id": "LWjvrKyXCIM3"
      }
    },
    {
      "cell_type": "code",
      "execution_count": 46,
      "metadata": {
        "id": "Tyd9NwubKvdf"
      },
      "outputs": [],
      "source": [
        "data = pd.read_csv('all_seasons.csv')\n",
        "country_codes = pd.read_csv('country_code.csv')"
      ]
    },
    {
      "cell_type": "markdown",
      "source": [
        "Casting season attribute"
      ],
      "metadata": {
        "id": "9tKRkObKCN6w"
      }
    },
    {
      "cell_type": "code",
      "source": [
        "data['season'] = data['season'].str.split('-').str[0].astype(int)"
      ],
      "metadata": {
        "id": "u02aq_spK-nU"
      },
      "execution_count": 47,
      "outputs": []
    },
    {
      "cell_type": "markdown",
      "source": [
        "Fix team abbreviations"
      ],
      "metadata": {
        "id": "69uUYXxMCfas"
      }
    },
    {
      "cell_type": "code",
      "source": [
        "data.loc[data['team_abbreviation'] == 'VAN', 'team_abbreviation'] = 'MEM'\n",
        "data.loc[data['team_abbreviation'] == 'SEA', 'team_abbreviation'] = 'OKC'\n",
        "data.loc[data['team_abbreviation'] == 'NOK', 'team_abbreviation'] = 'NOP'\n",
        "data.loc[data['team_abbreviation'] == 'CHH', 'team_abbreviation'] = 'CHA'\n",
        "data.loc[data['team_abbreviation'] == 'NJN', 'team_abbreviation'] = 'BKN'\n",
        "data.loc[data['team_abbreviation'] == 'NOH', 'team_abbreviation'] = 'NOP'"
      ],
      "metadata": {
        "id": "UeCi_tfWLCA5"
      },
      "execution_count": 48,
      "outputs": []
    },
    {
      "cell_type": "markdown",
      "source": [
        "Creating Normalized attributes for points, assists, rebounds, player height and player weight"
      ],
      "metadata": {
        "id": "wye1WoRpCtIC"
      }
    },
    {
      "cell_type": "code",
      "source": [
        "def norm(old, new):\n",
        "    mean_value = data[old].mean()\n",
        "    std_value = data[old].std()\n",
        "    data[new] = (data[old] - mean_value) / std_value\n",
        "\n",
        "\n",
        "norm('player_height', 'height')\n",
        "norm('player_weight', 'weight')\n",
        "norm('reb', 'rebb')\n",
        "norm('ast', 'astt')\n",
        "norm('pts', 'ptss')"
      ],
      "metadata": {
        "id": "mI-IVkqLLFa8"
      },
      "execution_count": 49,
      "outputs": []
    },
    {
      "cell_type": "markdown",
      "source": [
        "Fixing countries names and codes"
      ],
      "metadata": {
        "id": "c_2kgeWrouBz"
      }
    },
    {
      "cell_type": "code",
      "source": [
        "data.loc[data['country'] == 'Bosnia', 'country'] = 'Bosnia and Herzegovina'\n",
        "data.loc[data['country'] == 'Bosnia & Herzegovina', 'country'] = 'Bosnia and Herzegovina'\n",
        "data.loc[data['country'] == 'England', 'country'] = 'United Kingdom'\n",
        "data.loc[data['country'] == 'Great Britain', 'country'] = 'United Kingdom'\n",
        "data.loc[data['country'] == 'Serbia and Montenegro', 'country'] = 'Serbia'\n",
        "data.loc[data['country'] == 'Sudan (UK)', 'country'] = 'Sudan'\n",
        "data.loc[data['country'] == 'US Virgin Islands', 'country'] = 'U.S. Virgin Islands'"
      ],
      "metadata": {
        "id": "m88T2IgbosVf"
      },
      "execution_count": 50,
      "outputs": []
    },
    {
      "cell_type": "code",
      "source": [
        "country_codes = country_codes.drop(['code_2digit'], axis=1)\n",
        "country_codes.rename(columns={'Country_name': 'country'}, inplace=True)\n",
        "data = pd.merge(data, country_codes, on='country', how='left')\n",
        "data.rename(columns={'code_3digit': 'code'}, inplace=True)\n",
        "data.loc[data['country'] == 'USA', 'code'] = 'USA'"
      ],
      "metadata": {
        "id": "UdpbMCc0LTmT"
      },
      "execution_count": 51,
      "outputs": []
    },
    {
      "cell_type": "code",
      "source": [
        "dict_codes = {\n",
        "    'Russia': 'RUS',\n",
        "    'Democratic Republic of the Congo': 'COD',\n",
        "    'U.S. Virgin Islands': 'VIR',\n",
        "    'Congo': 'COG',\n",
        "    'St. Vincent & Grenadines': 'VCT',\n",
        "    'Yugoslavia': 'YUG',\n",
        "    'Venezuela': 'VEN',\n",
        "    'Iran': 'IRN',\n",
        "    'Tanzania': 'TZA',\n",
        "    'Scotland': 'SCO',\n",
        "    'South Korea': 'KOR',\n",
        "    'USSR': 'SUN',\n",
        "    'Macedonia': 'MKD',\n",
        "    'Cabo Verde': 'CPV'\n",
        "}"
      ],
      "metadata": {
        "id": "rzmiAIHSrY5W"
      },
      "execution_count": 52,
      "outputs": []
    },
    {
      "cell_type": "code",
      "source": [
        "for k, v in dict_codes.items():\n",
        "  data.loc[data['country'] == k, 'code'] = v"
      ],
      "metadata": {
        "id": "tS8l59txrgpQ"
      },
      "execution_count": 53,
      "outputs": []
    },
    {
      "cell_type": "markdown",
      "source": [
        "Match each team abbreviation to the full NBA team name"
      ],
      "metadata": {
        "id": "vn1krD47C88w"
      }
    },
    {
      "cell_type": "code",
      "source": [
        "nba_teams = {\n",
        "    'ATL': 'Atlanta Hawks',\n",
        "    'BOS': 'Boston Celtics',\n",
        "    'BKN': 'Brooklyn Nets',\n",
        "    'CHA': 'Charlotte Hornets',\n",
        "    'CHI': 'Chicago Bulls',\n",
        "    'CLE': 'Cleveland Cavaliers',\n",
        "    'DAL': 'Dallas Mavericks',\n",
        "    'DEN': 'Denver Nuggets',\n",
        "    'DET': 'Detroit Pistons',\n",
        "    'GSW': 'Golden State Warriors',\n",
        "    'HOU': 'Houston Rockets',\n",
        "    'IND': 'Indiana Pacers',\n",
        "    'LAC': 'Los Angeles Clippers',\n",
        "    'LAL': 'Los Angeles Lakers',\n",
        "    'MEM': 'Memphis Grizzlies',\n",
        "    'MIA': 'Miami Heat',\n",
        "    'MIL': 'Milwaukee Bucks',\n",
        "    'MIN': 'Minnesota Timberwolves',\n",
        "    'NOP': 'New Orleans Pelicans',\n",
        "    'NYK': 'New York Knicks',\n",
        "    'OKC': 'Oklahoma City Thunder',\n",
        "    'ORL': 'Orlando Magic',\n",
        "    'PHI': 'Philadelphia 76ers',\n",
        "    'PHX': 'Phoenix Suns',\n",
        "    'POR': 'Portland Trail Blazers',\n",
        "    'SAC': 'Sacramento Kings',\n",
        "    'SAS': 'San Antonio Spurs',\n",
        "    'TOR': 'Toronto Raptors',\n",
        "    'UTA': 'Utah Jazz',\n",
        "    'WAS': 'Washington Wizards'\n",
        "}"
      ],
      "metadata": {
        "id": "nNoaTr6sLcEa"
      },
      "execution_count": 54,
      "outputs": []
    },
    {
      "cell_type": "code",
      "source": [
        " data['team'] = data['team_abbreviation'].map(nba_teams)"
      ],
      "metadata": {
        "id": "gUNbF2oZMDLa"
      },
      "execution_count": 55,
      "outputs": []
    },
    {
      "cell_type": "markdown",
      "source": [
        "Drop unwanted attributes"
      ],
      "metadata": {
        "id": "qoRPtKymDNT3"
      }
    },
    {
      "cell_type": "code",
      "source": [
        "data = data.drop(['Unnamed: 0_x','Unnamed: 0_y'], axis=1)"
      ],
      "metadata": {
        "id": "0h16cy_iN-1m"
      },
      "execution_count": 56,
      "outputs": []
    },
    {
      "cell_type": "markdown",
      "source": [
        "Export the DF to .csv file"
      ],
      "metadata": {
        "id": "mt7dFFY8DVHb"
      }
    },
    {
      "cell_type": "code",
      "source": [
        "data.to_csv('ProccessedData.csv', index=False)"
      ],
      "metadata": {
        "id": "JAGEJIZMNAe0"
      },
      "execution_count": 57,
      "outputs": []
    }
  ]
}